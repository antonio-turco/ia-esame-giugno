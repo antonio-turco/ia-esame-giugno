{
 "cells": [
  {
   "cell_type": "code",
   "execution_count": 1,
   "metadata": {},
   "outputs": [],
   "source": [
    "import pandas as pd"
   ]
  },
  {
   "cell_type": "code",
   "execution_count": 2,
   "metadata": {},
   "outputs": [],
   "source": [
    "filepath = \"data/\"\n",
    "train = pd.read_csv(filepath + \"train.csv\")\n",
    "test = pd.read_csv(filepath + \"test.csv\")"
   ]
  },
  {
   "cell_type": "code",
   "execution_count": 3,
   "metadata": {},
   "outputs": [
    {
     "data": {
      "text/html": [
       "<div>\n",
       "<style scoped>\n",
       "    .dataframe tbody tr th:only-of-type {\n",
       "        vertical-align: middle;\n",
       "    }\n",
       "\n",
       "    .dataframe tbody tr th {\n",
       "        vertical-align: top;\n",
       "    }\n",
       "\n",
       "    .dataframe thead th {\n",
       "        text-align: right;\n",
       "    }\n",
       "</style>\n",
       "<table border=\"1\" class=\"dataframe\">\n",
       "  <thead>\n",
       "    <tr style=\"text-align: right;\">\n",
       "      <th></th>\n",
       "      <th>No-show</th>\n",
       "      <th>PatientId</th>\n",
       "      <th>AppointmentID</th>\n",
       "      <th>Gender</th>\n",
       "      <th>ScheduledDay</th>\n",
       "      <th>AppointmentDay</th>\n",
       "      <th>Age</th>\n",
       "      <th>Neighbourhood</th>\n",
       "      <th>Scholarship</th>\n",
       "      <th>Hipertension</th>\n",
       "      <th>Diabetes</th>\n",
       "      <th>Alcoholism</th>\n",
       "      <th>Handcap</th>\n",
       "      <th>SMS_received</th>\n",
       "    </tr>\n",
       "  </thead>\n",
       "  <tbody>\n",
       "    <tr>\n",
       "      <th>0</th>\n",
       "      <td>No</td>\n",
       "      <td>1.439424e+14</td>\n",
       "      <td>5651416</td>\n",
       "      <td>F</td>\n",
       "      <td>2016-05-03T08:47:46Z</td>\n",
       "      <td>2016-05-03T00:00:00Z</td>\n",
       "      <td>5</td>\n",
       "      <td>ITARARÉ</td>\n",
       "      <td>0</td>\n",
       "      <td>0</td>\n",
       "      <td>0</td>\n",
       "      <td>0</td>\n",
       "      <td>0</td>\n",
       "      <td>0</td>\n",
       "    </tr>\n",
       "    <tr>\n",
       "      <th>1</th>\n",
       "      <td>No</td>\n",
       "      <td>2.525147e+11</td>\n",
       "      <td>5683687</td>\n",
       "      <td>M</td>\n",
       "      <td>2016-05-11T07:46:04Z</td>\n",
       "      <td>2016-05-11T00:00:00Z</td>\n",
       "      <td>29</td>\n",
       "      <td>NOVA PALESTINA</td>\n",
       "      <td>0</td>\n",
       "      <td>0</td>\n",
       "      <td>0</td>\n",
       "      <td>0</td>\n",
       "      <td>1</td>\n",
       "      <td>0</td>\n",
       "    </tr>\n",
       "    <tr>\n",
       "      <th>2</th>\n",
       "      <td>No</td>\n",
       "      <td>7.329774e+13</td>\n",
       "      <td>5604719</td>\n",
       "      <td>F</td>\n",
       "      <td>2016-04-20T08:15:21Z</td>\n",
       "      <td>2016-05-16T00:00:00Z</td>\n",
       "      <td>48</td>\n",
       "      <td>JESUS DE NAZARETH</td>\n",
       "      <td>0</td>\n",
       "      <td>0</td>\n",
       "      <td>0</td>\n",
       "      <td>1</td>\n",
       "      <td>0</td>\n",
       "      <td>0</td>\n",
       "    </tr>\n",
       "    <tr>\n",
       "      <th>3</th>\n",
       "      <td>Yes</td>\n",
       "      <td>2.737400e+13</td>\n",
       "      <td>5548139</td>\n",
       "      <td>M</td>\n",
       "      <td>2016-04-06T08:08:58Z</td>\n",
       "      <td>2016-05-09T00:00:00Z</td>\n",
       "      <td>51</td>\n",
       "      <td>MARIA ORTIZ</td>\n",
       "      <td>0</td>\n",
       "      <td>0</td>\n",
       "      <td>0</td>\n",
       "      <td>0</td>\n",
       "      <td>0</td>\n",
       "      <td>0</td>\n",
       "    </tr>\n",
       "    <tr>\n",
       "      <th>4</th>\n",
       "      <td>No</td>\n",
       "      <td>1.777157e+13</td>\n",
       "      <td>5729822</td>\n",
       "      <td>F</td>\n",
       "      <td>2016-05-24T07:52:57Z</td>\n",
       "      <td>2016-05-24T00:00:00Z</td>\n",
       "      <td>68</td>\n",
       "      <td>PIEDADE</td>\n",
       "      <td>0</td>\n",
       "      <td>1</td>\n",
       "      <td>1</td>\n",
       "      <td>0</td>\n",
       "      <td>0</td>\n",
       "      <td>0</td>\n",
       "    </tr>\n",
       "  </tbody>\n",
       "</table>\n",
       "</div>"
      ],
      "text/plain": [
       "  No-show     PatientId  AppointmentID Gender          ScheduledDay  \\\n",
       "0      No  1.439424e+14        5651416      F  2016-05-03T08:47:46Z   \n",
       "1      No  2.525147e+11        5683687      M  2016-05-11T07:46:04Z   \n",
       "2      No  7.329774e+13        5604719      F  2016-04-20T08:15:21Z   \n",
       "3     Yes  2.737400e+13        5548139      M  2016-04-06T08:08:58Z   \n",
       "4      No  1.777157e+13        5729822      F  2016-05-24T07:52:57Z   \n",
       "\n",
       "         AppointmentDay  Age      Neighbourhood  Scholarship  Hipertension  \\\n",
       "0  2016-05-03T00:00:00Z    5            ITARARÉ            0             0   \n",
       "1  2016-05-11T00:00:00Z   29     NOVA PALESTINA            0             0   \n",
       "2  2016-05-16T00:00:00Z   48  JESUS DE NAZARETH            0             0   \n",
       "3  2016-05-09T00:00:00Z   51        MARIA ORTIZ            0             0   \n",
       "4  2016-05-24T00:00:00Z   68            PIEDADE            0             1   \n",
       "\n",
       "   Diabetes  Alcoholism  Handcap  SMS_received  \n",
       "0         0           0        0             0  \n",
       "1         0           0        1             0  \n",
       "2         0           1        0             0  \n",
       "3         0           0        0             0  \n",
       "4         1           0        0             0  "
      ]
     },
     "execution_count": 3,
     "metadata": {},
     "output_type": "execute_result"
    }
   ],
   "source": [
    "train.head()"
   ]
  },
  {
   "cell_type": "code",
   "execution_count": 4,
   "metadata": {},
   "outputs": [
    {
     "data": {
      "text/html": [
       "<div>\n",
       "<style scoped>\n",
       "    .dataframe tbody tr th:only-of-type {\n",
       "        vertical-align: middle;\n",
       "    }\n",
       "\n",
       "    .dataframe tbody tr th {\n",
       "        vertical-align: top;\n",
       "    }\n",
       "\n",
       "    .dataframe thead th {\n",
       "        text-align: right;\n",
       "    }\n",
       "</style>\n",
       "<table border=\"1\" class=\"dataframe\">\n",
       "  <thead>\n",
       "    <tr style=\"text-align: right;\">\n",
       "      <th></th>\n",
       "      <th>PatientId</th>\n",
       "      <th>AppointmentID</th>\n",
       "      <th>Age</th>\n",
       "      <th>Scholarship</th>\n",
       "      <th>Hipertension</th>\n",
       "      <th>Diabetes</th>\n",
       "      <th>Alcoholism</th>\n",
       "      <th>Handcap</th>\n",
       "      <th>SMS_received</th>\n",
       "    </tr>\n",
       "  </thead>\n",
       "  <tbody>\n",
       "    <tr>\n",
       "      <th>count</th>\n",
       "      <td>7.073600e+04</td>\n",
       "      <td>7.073600e+04</td>\n",
       "      <td>70736.000000</td>\n",
       "      <td>70736.000000</td>\n",
       "      <td>70736.000000</td>\n",
       "      <td>70736.000000</td>\n",
       "      <td>70736.000000</td>\n",
       "      <td>70736.000000</td>\n",
       "      <td>70736.000000</td>\n",
       "    </tr>\n",
       "    <tr>\n",
       "      <th>mean</th>\n",
       "      <td>1.479324e+14</td>\n",
       "      <td>5.675340e+06</td>\n",
       "      <td>37.106608</td>\n",
       "      <td>0.099299</td>\n",
       "      <td>0.197636</td>\n",
       "      <td>0.072014</td>\n",
       "      <td>0.030480</td>\n",
       "      <td>0.022379</td>\n",
       "      <td>0.321350</td>\n",
       "    </tr>\n",
       "    <tr>\n",
       "      <th>std</th>\n",
       "      <td>2.564923e+14</td>\n",
       "      <td>7.140205e+04</td>\n",
       "      <td>23.080635</td>\n",
       "      <td>0.299065</td>\n",
       "      <td>0.398219</td>\n",
       "      <td>0.258513</td>\n",
       "      <td>0.171904</td>\n",
       "      <td>0.162053</td>\n",
       "      <td>0.466998</td>\n",
       "    </tr>\n",
       "    <tr>\n",
       "      <th>min</th>\n",
       "      <td>3.921784e+04</td>\n",
       "      <td>5.030230e+06</td>\n",
       "      <td>0.000000</td>\n",
       "      <td>0.000000</td>\n",
       "      <td>0.000000</td>\n",
       "      <td>0.000000</td>\n",
       "      <td>0.000000</td>\n",
       "      <td>0.000000</td>\n",
       "      <td>0.000000</td>\n",
       "    </tr>\n",
       "    <tr>\n",
       "      <th>25%</th>\n",
       "      <td>4.143725e+12</td>\n",
       "      <td>5.640499e+06</td>\n",
       "      <td>18.000000</td>\n",
       "      <td>0.000000</td>\n",
       "      <td>0.000000</td>\n",
       "      <td>0.000000</td>\n",
       "      <td>0.000000</td>\n",
       "      <td>0.000000</td>\n",
       "      <td>0.000000</td>\n",
       "    </tr>\n",
       "    <tr>\n",
       "      <th>50%</th>\n",
       "      <td>3.173184e+13</td>\n",
       "      <td>5.680842e+06</td>\n",
       "      <td>37.000000</td>\n",
       "      <td>0.000000</td>\n",
       "      <td>0.000000</td>\n",
       "      <td>0.000000</td>\n",
       "      <td>0.000000</td>\n",
       "      <td>0.000000</td>\n",
       "      <td>0.000000</td>\n",
       "    </tr>\n",
       "    <tr>\n",
       "      <th>75%</th>\n",
       "      <td>9.458326e+13</td>\n",
       "      <td>5.725678e+06</td>\n",
       "      <td>55.000000</td>\n",
       "      <td>0.000000</td>\n",
       "      <td>0.000000</td>\n",
       "      <td>0.000000</td>\n",
       "      <td>0.000000</td>\n",
       "      <td>0.000000</td>\n",
       "      <td>1.000000</td>\n",
       "    </tr>\n",
       "    <tr>\n",
       "      <th>max</th>\n",
       "      <td>9.999816e+14</td>\n",
       "      <td>5.790481e+06</td>\n",
       "      <td>115.000000</td>\n",
       "      <td>1.000000</td>\n",
       "      <td>1.000000</td>\n",
       "      <td>1.000000</td>\n",
       "      <td>1.000000</td>\n",
       "      <td>4.000000</td>\n",
       "      <td>1.000000</td>\n",
       "    </tr>\n",
       "  </tbody>\n",
       "</table>\n",
       "</div>"
      ],
      "text/plain": [
       "          PatientId  AppointmentID           Age   Scholarship  Hipertension  \\\n",
       "count  7.073600e+04   7.073600e+04  70736.000000  70736.000000  70736.000000   \n",
       "mean   1.479324e+14   5.675340e+06     37.106608      0.099299      0.197636   \n",
       "std    2.564923e+14   7.140205e+04     23.080635      0.299065      0.398219   \n",
       "min    3.921784e+04   5.030230e+06      0.000000      0.000000      0.000000   \n",
       "25%    4.143725e+12   5.640499e+06     18.000000      0.000000      0.000000   \n",
       "50%    3.173184e+13   5.680842e+06     37.000000      0.000000      0.000000   \n",
       "75%    9.458326e+13   5.725678e+06     55.000000      0.000000      0.000000   \n",
       "max    9.999816e+14   5.790481e+06    115.000000      1.000000      1.000000   \n",
       "\n",
       "           Diabetes    Alcoholism       Handcap  SMS_received  \n",
       "count  70736.000000  70736.000000  70736.000000  70736.000000  \n",
       "mean       0.072014      0.030480      0.022379      0.321350  \n",
       "std        0.258513      0.171904      0.162053      0.466998  \n",
       "min        0.000000      0.000000      0.000000      0.000000  \n",
       "25%        0.000000      0.000000      0.000000      0.000000  \n",
       "50%        0.000000      0.000000      0.000000      0.000000  \n",
       "75%        0.000000      0.000000      0.000000      1.000000  \n",
       "max        1.000000      1.000000      4.000000      1.000000  "
      ]
     },
     "execution_count": 4,
     "metadata": {},
     "output_type": "execute_result"
    }
   ],
   "source": [
    "train.describe()"
   ]
  },
  {
   "cell_type": "code",
   "execution_count": 5,
   "metadata": {},
   "outputs": [
    {
     "name": "stdout",
     "output_type": "stream",
     "text": [
      "<class 'pandas.core.frame.DataFrame'>\n",
      "RangeIndex: 70736 entries, 0 to 70735\n",
      "Data columns (total 14 columns):\n",
      " #   Column          Non-Null Count  Dtype  \n",
      "---  ------          --------------  -----  \n",
      " 0   No-show         70736 non-null  object \n",
      " 1   PatientId       70736 non-null  float64\n",
      " 2   AppointmentID   70736 non-null  int64  \n",
      " 3   Gender          70736 non-null  object \n",
      " 4   ScheduledDay    70736 non-null  object \n",
      " 5   AppointmentDay  70736 non-null  object \n",
      " 6   Age             70736 non-null  int64  \n",
      " 7   Neighbourhood   70736 non-null  object \n",
      " 8   Scholarship     70736 non-null  int64  \n",
      " 9   Hipertension    70736 non-null  int64  \n",
      " 10  Diabetes        70736 non-null  int64  \n",
      " 11  Alcoholism      70736 non-null  int64  \n",
      " 12  Handcap         70736 non-null  int64  \n",
      " 13  SMS_received    70736 non-null  int64  \n",
      "dtypes: float64(1), int64(8), object(5)\n",
      "memory usage: 7.6+ MB\n"
     ]
    }
   ],
   "source": [
    "train.info()"
   ]
  },
  {
   "cell_type": "code",
   "execution_count": 6,
   "metadata": {},
   "outputs": [
    {
     "data": {
      "text/html": [
       "<div>\n",
       "<style scoped>\n",
       "    .dataframe tbody tr th:only-of-type {\n",
       "        vertical-align: middle;\n",
       "    }\n",
       "\n",
       "    .dataframe tbody tr th {\n",
       "        vertical-align: top;\n",
       "    }\n",
       "\n",
       "    .dataframe thead th {\n",
       "        text-align: right;\n",
       "    }\n",
       "</style>\n",
       "<table border=\"1\" class=\"dataframe\">\n",
       "  <thead>\n",
       "    <tr style=\"text-align: right;\">\n",
       "      <th></th>\n",
       "      <th>No-show</th>\n",
       "      <th>PatientId</th>\n",
       "      <th>AppointmentID</th>\n",
       "      <th>Gender</th>\n",
       "      <th>ScheduledDay</th>\n",
       "      <th>AppointmentDay</th>\n",
       "      <th>Age</th>\n",
       "      <th>Neighbourhood</th>\n",
       "      <th>Scholarship</th>\n",
       "      <th>Hipertension</th>\n",
       "      <th>Diabetes</th>\n",
       "      <th>Alcoholism</th>\n",
       "      <th>Handcap</th>\n",
       "      <th>SMS_received</th>\n",
       "    </tr>\n",
       "  </thead>\n",
       "  <tbody>\n",
       "    <tr>\n",
       "      <th>70731</th>\n",
       "      <td>No</td>\n",
       "      <td>8.293328e+14</td>\n",
       "      <td>5773773</td>\n",
       "      <td>F</td>\n",
       "      <td>2016-06-06T07:31:09Z</td>\n",
       "      <td>2016-06-06T00:00:00Z</td>\n",
       "      <td>58</td>\n",
       "      <td>JARDIM CAMBURI</td>\n",
       "      <td>0</td>\n",
       "      <td>0</td>\n",
       "      <td>0</td>\n",
       "      <td>0</td>\n",
       "      <td>0</td>\n",
       "      <td>0</td>\n",
       "    </tr>\n",
       "    <tr>\n",
       "      <th>70732</th>\n",
       "      <td>Yes</td>\n",
       "      <td>3.385828e+13</td>\n",
       "      <td>5417319</td>\n",
       "      <td>F</td>\n",
       "      <td>2016-03-01T17:48:50Z</td>\n",
       "      <td>2016-05-12T00:00:00Z</td>\n",
       "      <td>51</td>\n",
       "      <td>JARDIM CAMBURI</td>\n",
       "      <td>0</td>\n",
       "      <td>0</td>\n",
       "      <td>0</td>\n",
       "      <td>0</td>\n",
       "      <td>0</td>\n",
       "      <td>1</td>\n",
       "    </tr>\n",
       "    <tr>\n",
       "      <th>70733</th>\n",
       "      <td>No</td>\n",
       "      <td>1.388679e+12</td>\n",
       "      <td>5752843</td>\n",
       "      <td>F</td>\n",
       "      <td>2016-05-31T12:53:24Z</td>\n",
       "      <td>2016-06-02T00:00:00Z</td>\n",
       "      <td>77</td>\n",
       "      <td>JABOUR</td>\n",
       "      <td>0</td>\n",
       "      <td>0</td>\n",
       "      <td>0</td>\n",
       "      <td>0</td>\n",
       "      <td>0</td>\n",
       "      <td>0</td>\n",
       "    </tr>\n",
       "    <tr>\n",
       "      <th>70734</th>\n",
       "      <td>Yes</td>\n",
       "      <td>9.686748e+12</td>\n",
       "      <td>5588396</td>\n",
       "      <td>F</td>\n",
       "      <td>2016-04-15T09:55:26Z</td>\n",
       "      <td>2016-05-11T00:00:00Z</td>\n",
       "      <td>22</td>\n",
       "      <td>MÁRIO CYPRESTE</td>\n",
       "      <td>0</td>\n",
       "      <td>0</td>\n",
       "      <td>0</td>\n",
       "      <td>0</td>\n",
       "      <td>0</td>\n",
       "      <td>0</td>\n",
       "    </tr>\n",
       "    <tr>\n",
       "      <th>70735</th>\n",
       "      <td>No</td>\n",
       "      <td>2.859380e+13</td>\n",
       "      <td>5656339</td>\n",
       "      <td>M</td>\n",
       "      <td>2016-05-04T07:56:43Z</td>\n",
       "      <td>2016-05-04T00:00:00Z</td>\n",
       "      <td>37</td>\n",
       "      <td>ILHA DO PRÍNCIPE</td>\n",
       "      <td>0</td>\n",
       "      <td>0</td>\n",
       "      <td>0</td>\n",
       "      <td>0</td>\n",
       "      <td>0</td>\n",
       "      <td>0</td>\n",
       "    </tr>\n",
       "  </tbody>\n",
       "</table>\n",
       "</div>"
      ],
      "text/plain": [
       "      No-show     PatientId  AppointmentID Gender          ScheduledDay  \\\n",
       "70731      No  8.293328e+14        5773773      F  2016-06-06T07:31:09Z   \n",
       "70732     Yes  3.385828e+13        5417319      F  2016-03-01T17:48:50Z   \n",
       "70733      No  1.388679e+12        5752843      F  2016-05-31T12:53:24Z   \n",
       "70734     Yes  9.686748e+12        5588396      F  2016-04-15T09:55:26Z   \n",
       "70735      No  2.859380e+13        5656339      M  2016-05-04T07:56:43Z   \n",
       "\n",
       "             AppointmentDay  Age     Neighbourhood  Scholarship  Hipertension  \\\n",
       "70731  2016-06-06T00:00:00Z   58    JARDIM CAMBURI            0             0   \n",
       "70732  2016-05-12T00:00:00Z   51    JARDIM CAMBURI            0             0   \n",
       "70733  2016-06-02T00:00:00Z   77            JABOUR            0             0   \n",
       "70734  2016-05-11T00:00:00Z   22    MÁRIO CYPRESTE            0             0   \n",
       "70735  2016-05-04T00:00:00Z   37  ILHA DO PRÍNCIPE            0             0   \n",
       "\n",
       "       Diabetes  Alcoholism  Handcap  SMS_received  \n",
       "70731         0           0        0             0  \n",
       "70732         0           0        0             1  \n",
       "70733         0           0        0             0  \n",
       "70734         0           0        0             0  \n",
       "70735         0           0        0             0  "
      ]
     },
     "execution_count": 6,
     "metadata": {},
     "output_type": "execute_result"
    }
   ],
   "source": [
    "train.tail()"
   ]
  },
  {
   "cell_type": "code",
   "execution_count": 7,
   "metadata": {},
   "outputs": [
    {
     "data": {
      "text/html": [
       "<div>\n",
       "<style scoped>\n",
       "    .dataframe tbody tr th:only-of-type {\n",
       "        vertical-align: middle;\n",
       "    }\n",
       "\n",
       "    .dataframe tbody tr th {\n",
       "        vertical-align: top;\n",
       "    }\n",
       "\n",
       "    .dataframe thead th {\n",
       "        text-align: right;\n",
       "    }\n",
       "</style>\n",
       "<table border=\"1\" class=\"dataframe\">\n",
       "  <thead>\n",
       "    <tr style=\"text-align: right;\">\n",
       "      <th></th>\n",
       "      <th>No-show</th>\n",
       "      <th>Gender</th>\n",
       "      <th>ScheduledDay</th>\n",
       "      <th>AppointmentDay</th>\n",
       "      <th>Neighbourhood</th>\n",
       "    </tr>\n",
       "  </thead>\n",
       "  <tbody>\n",
       "    <tr>\n",
       "      <th>count</th>\n",
       "      <td>70736</td>\n",
       "      <td>70736</td>\n",
       "      <td>70736</td>\n",
       "      <td>70736</td>\n",
       "      <td>70736</td>\n",
       "    </tr>\n",
       "    <tr>\n",
       "      <th>unique</th>\n",
       "      <td>2</td>\n",
       "      <td>2</td>\n",
       "      <td>67686</td>\n",
       "      <td>27</td>\n",
       "      <td>81</td>\n",
       "    </tr>\n",
       "    <tr>\n",
       "      <th>top</th>\n",
       "      <td>No</td>\n",
       "      <td>F</td>\n",
       "      <td>2016-04-25T17:17:46Z</td>\n",
       "      <td>2016-06-06T00:00:00Z</td>\n",
       "      <td>JARDIM CAMBURI</td>\n",
       "    </tr>\n",
       "    <tr>\n",
       "      <th>freq</th>\n",
       "      <td>56416</td>\n",
       "      <td>45941</td>\n",
       "      <td>17</td>\n",
       "      <td>3008</td>\n",
       "      <td>4977</td>\n",
       "    </tr>\n",
       "  </tbody>\n",
       "</table>\n",
       "</div>"
      ],
      "text/plain": [
       "       No-show Gender          ScheduledDay        AppointmentDay  \\\n",
       "count    70736  70736                 70736                 70736   \n",
       "unique       2      2                 67686                    27   \n",
       "top         No      F  2016-04-25T17:17:46Z  2016-06-06T00:00:00Z   \n",
       "freq     56416  45941                    17                  3008   \n",
       "\n",
       "         Neighbourhood  \n",
       "count            70736  \n",
       "unique              81  \n",
       "top     JARDIM CAMBURI  \n",
       "freq              4977  "
      ]
     },
     "execution_count": 7,
     "metadata": {},
     "output_type": "execute_result"
    }
   ],
   "source": [
    "train.select_dtypes(exclude=[\"number\"]).describe()"
   ]
  },
  {
   "cell_type": "markdown",
   "metadata": {},
   "source": [
    "# Prime analisi e pulizia dati\n",
    "Da una prima analisi si osserva come le colonne `PatientId` e `AppointmentId` sono delle chiavi in un ipotetica relazione M-N tra paziente e appuntamento, quindi si possono scartare visto che non altrerebbero il risultato. \n",
    "\n",
    "Inoltre si nota che nelle date non è necessario mantenere l'ora visto che l'appuntamento effettivo non mantiene questa informazione. Inoltre si scartano gli orari poiché in alcuni casi sembra che venga registrato prima l'appuntamento e poi la prenotazione. \n",
    "Infatti osservando l'output seguente si vede che lo `scheduledDay` viene DOPO l'`appointmentDay`. Probabilmente è un informazione mancante o siccome avviene nello stesso giorno probabilmente l'orario è uguale per entrambi. \n",
    "In ogni caso, si preferisce eliminare l'orario perché non aggiunge contenuto informativo."
   ]
  },
  {
   "cell_type": "code",
   "execution_count": 8,
   "metadata": {},
   "outputs": [
    {
     "data": {
      "text/plain": [
       "ScheduledDay      2016-06-06T07:31:09Z\n",
       "AppointmentDay    2016-06-06T00:00:00Z\n",
       "Name: 70731, dtype: object"
      ]
     },
     "execution_count": 8,
     "metadata": {},
     "output_type": "execute_result"
    }
   ],
   "source": [
    "train.loc[70731][[\"ScheduledDay\", \"AppointmentDay\"]]"
   ]
  },
  {
   "cell_type": "markdown",
   "metadata": {},
   "source": [
    "Inoltre si aggiunge una colonna chiamata `waitDays` che conterrà un valore numerico che indica i giorni che si è atteso tra la prenotazione e l'appuntamento effettivo"
   ]
  },
  {
   "cell_type": "code",
   "execution_count": 9,
   "metadata": {},
   "outputs": [],
   "source": [
    "train.ScheduledDay = pd.to_datetime(train['ScheduledDay']).dt.date\n",
    "train.AppointmentDay = pd.to_datetime(train['AppointmentDay']).dt.date\n",
    "train[\"WaitDays\"] = train.AppointmentDay - train.ScheduledDay\n",
    "train[\"WaitDays\"] = train[\"WaitDays\"].dt.days\n",
    "\n",
    "train = train.drop(labels=[\"AppointmentID\", \"PatientId\"], axis=1)"
   ]
  },
  {
   "cell_type": "markdown",
   "metadata": {},
   "source": [
    "Inoltre si nota che alcune righe hanno valori negativi di waitDays. Probabilmente sono state invertite la data di registrazione dell'appuntamento con quella della visita effettiva. Per risolvere basta cambiare il segno in `waitDays`"
   ]
  },
  {
   "cell_type": "code",
   "execution_count": 10,
   "metadata": {},
   "outputs": [
    {
     "data": {
      "text/plain": [
       "52291   -6\n",
       "54675   -1\n",
       "Name: WaitDays, dtype: int64"
      ]
     },
     "execution_count": 10,
     "metadata": {},
     "output_type": "execute_result"
    }
   ],
   "source": [
    "train[train.WaitDays < 0 ].WaitDays"
   ]
  },
  {
   "cell_type": "code",
   "execution_count": 11,
   "metadata": {},
   "outputs": [],
   "source": [
    "invert_negative = lambda x: -x if x < 0 else x\n",
    "train.WaitDays = train.WaitDays.apply(invert_negative)"
   ]
  },
  {
   "cell_type": "markdown",
   "metadata": {},
   "source": [
    "Applico gli stessi passaggi sul test set in modo tale da evitare disallineamenti"
   ]
  },
  {
   "cell_type": "code",
   "execution_count": 12,
   "metadata": {},
   "outputs": [],
   "source": [
    "test.ScheduledDay = pd.to_datetime(test['ScheduledDay']).dt.date\n",
    "test.AppointmentDay = pd.to_datetime(test['AppointmentDay']).dt.date\n",
    "\n",
    "test[\"WaitDays\"] = test.AppointmentDay - test.ScheduledDay\n",
    "test[\"WaitDays\"] = test[\"WaitDays\"].dt.days\n",
    "\n",
    "test.WaitDays = test.WaitDays.apply(invert_negative)\n",
    "test = test.drop(labels=[\"AppointmentID\", \"PatientId\"], axis=1)"
   ]
  },
  {
   "cell_type": "markdown",
   "metadata": {},
   "source": [
    "## Ricerca possibili valori nulli\n",
    "Analizzando i campi numerici non è emerso nessun dato nullo. L'unico punto ancora da analizzare sono i campi categorici che potrebbero nascondere qualche nullo sotto forma di stringa.\n",
    "I campi `NoShow` e `Gender` come si è visto prima non hanno valori nulli poiché nel conteggio delle istanze sono emersi solo due valori, che sono sono \"Si/No\" per `NoShow` e \"M/F\" per `Gender`. Quindi resta solo da valutare il campo `Neighbourhood` che come si può vedere qui sotto ha tutti valori concreti, ovvero non c'è nessun campo che indica la presenza di un valore nullo"
   ]
  },
  {
   "cell_type": "code",
   "execution_count": 13,
   "metadata": {},
   "outputs": [
    {
     "data": {
      "text/plain": [
       "array(['ITARARÉ', 'NOVA PALESTINA', 'JESUS DE NAZARETH', 'MARIA ORTIZ',\n",
       "       'PIEDADE', 'JOANA D´ARC', 'ENSEADA DO SUÁ', 'TABUAZEIRO',\n",
       "       'RESISTÊNCIA', 'ANDORINHAS', 'SANTA MARTHA', 'ILHA DO PRÍNCIPE',\n",
       "       'JARDIM CAMBURI', 'ROMÃO', 'DA PENHA', 'INHANGUETÁ', 'REDENÇÃO',\n",
       "       'ILHA DAS CAIEIRAS', 'CRUZAMENTO', 'ANTÔNIO HONÓRIO',\n",
       "       'SANTOS DUMONT', 'ARIOVALDO FAVALESSA', 'SÃO PEDRO', 'SANTA LÚCIA',\n",
       "       'SÃO JOSÉ', 'FORTE SÃO JOÃO', 'SANTO ANTÔNIO', 'CARATOÍRA',\n",
       "       'ILHA DE SANTA MARIA', 'UNIVERSITÁRIO', 'MONTE BELO', 'BONFIM',\n",
       "       'VILA RUBIM', 'DO QUADRO', 'SANTA TEREZA', 'REPÚBLICA',\n",
       "       'SANTO ANDRÉ', 'SOLON BORGES', 'GURIGICA', 'ESTRELINHA',\n",
       "       'PRAIA DO SUÁ', 'JABOUR', 'SÃO CRISTÓVÃO', 'SANTOS REIS',\n",
       "       'PARQUE MOSCOSO', 'BELA VISTA', 'SEGURANÇA DO LAR',\n",
       "       'BENTO FERREIRA', 'SÃO BENEDITO', 'JARDIM DA PENHA',\n",
       "       'GRANDE VITÓRIA', 'MARUÍPE', 'CONSOLAÇÃO', 'MATA DA PRAIA',\n",
       "       'CENTRO', 'DO MOSCOSO', 'CONQUISTA', 'PRAIA DO CANTO', 'HORTO',\n",
       "       'GOIABEIRAS', 'SANTA LUÍZA', 'BOA VISTA', 'FONTE GRANDE',\n",
       "       'BARRO VERMELHO', 'FRADINHOS', 'MÁRIO CYPRESTE', 'DO CABRAL',\n",
       "       'JUCUTUQUARA', 'NAZARETH', 'SANTA CECÍLIA', 'DE LOURDES',\n",
       "       'COMDUSA', 'SANTA HELENA', 'MORADA DE CAMBURI', 'SANTA CLARA',\n",
       "       'PONTAL DE CAMBURI', 'ILHA DO BOI', 'ILHA DO FRADE', 'AEROPORTO',\n",
       "       'PARQUE INDUSTRIAL', 'ILHAS OCEÂNICAS DE TRINDADE'], dtype=object)"
      ]
     },
     "execution_count": 13,
     "metadata": {},
     "output_type": "execute_result"
    }
   ],
   "source": [
    "train.Neighbourhood.unique()"
   ]
  },
  {
   "cell_type": "markdown",
   "metadata": {},
   "source": [
    "## Grafici\n",
    "In questa sezione si vuole provare ad individuare alcune possibili relazioni all'interno del dataset. In modo tale da capire meglio la realtà che si cerca di modellare e per verificiare se il modello che verrà creato utilizzerà tali osservazioni o se prenderà una strada totalmente diversa."
   ]
  },
  {
   "cell_type": "code",
   "execution_count": 14,
   "metadata": {},
   "outputs": [],
   "source": [
    "import seaborn as sns"
   ]
  },
  {
   "cell_type": "markdown",
   "metadata": {},
   "source": [
    "Come si può osservare qui sotto, la feature `SMS_received` gioca un ruolo importante. Infatti Se si invia un sms si riesce ad aumentare la pazienza dell'utenza. Riuscendo ad avere utenti che resistono anche più di due settimane prima di dimenticare l'appuntamento"
   ]
  },
  {
   "cell_type": "code",
   "execution_count": 15,
   "metadata": {},
   "outputs": [
    {
     "data": {
      "text/plain": [
       "<matplotlib.axes._subplots.AxesSubplot at 0x7f297e210c10>"
      ]
     },
     "execution_count": 15,
     "metadata": {},
     "output_type": "execute_result"
    },
    {
     "data": {
      "image/png": "[encoded data removed]",
      "text/plain": [
       "<Figure size 432x288 with 1 Axes>"
      ]
     },
     "metadata": {
      "needs_background": "light"
     },
     "output_type": "display_data"
    }
   ],
   "source": [
    "sns.barplot(y=\"WaitDays\", x=\"SMS_received\", hue=\"No-show\", data=train)"
   ]
  },
  {
   "cell_type": "markdown",
   "metadata": {},
   "source": [
    "Non sembra che ci siano differenze in base al genere. Infatti la forma dei grafici è molto simile. L'unica differenza è che l'utenza femminile è molto più grande di quella maschile. "
   ]
  },
  {
   "cell_type": "code",
   "execution_count": 16,
   "metadata": {},
   "outputs": [
    {
     "data": {
      "text/plain": [
       "<matplotlib.axes._subplots.AxesSubplot at 0x7f297d9a9ed0>"
      ]
     },
     "execution_count": 16,
     "metadata": {},
     "output_type": "execute_result"
    },
    {
     "data": {
      "image/png": "[encoded data removed]",
      "text/plain": [
       "<Figure size 432x288 with 1 Axes>"
      ]
     },
     "metadata": {
      "needs_background": "light"
     },
     "output_type": "display_data"
    }
   ],
   "source": [
    "sns.countplot(x=\"Gender\", hue=\"No-show\", data=train)"
   ]
  },
  {
   "cell_type": "markdown",
   "metadata": {},
   "source": [
    "Nell'area in basso a sinistra si può notare come le persone più giovani tendono ad avere meno pazienza di quelle più anziane. Infatti applicando gli stesso valori di `WaitDays` si osservano più valori 'Yes' nel campo `No-Show`.\n",
    "Inoltre da questo grafico emerge il fatto che chi riceve più tardi le cure di solito sono le persone sopra i 40 anni. Infatti ci sono molti casi di ritardi pari anche a più di 125 giorni."
   ]
  },
  {
   "cell_type": "code",
   "execution_count": 17,
   "metadata": {},
   "outputs": [
    {
     "data": {
      "text/plain": [
       "<matplotlib.axes._subplots.AxesSubplot at 0x7f297d8cfd50>"
      ]
     },
     "execution_count": 17,
     "metadata": {},
     "output_type": "execute_result"
    },
    {
     "data": {
      "image/png": "[encoded data removed]",
      "text/plain": [
       "<Figure size 432x288 with 1 Axes>"
      ]
     },
     "metadata": {
      "needs_background": "light"
     },
     "output_type": "display_data"
    }
   ],
   "source": [
    "sns.scatterplot(y=\"WaitDays\", x=\"Age\", hue=\"No-show\", data=train)"
   ]
  },
  {
   "cell_type": "markdown",
   "metadata": {},
   "source": [
    "Dai grafici sembra che chi ha uno `Scholarship` tenda o a dimenticarsi più spesso degli appuntamenti o ad avere meno pazienza ai ritardi. Inoltre chi ha tale servizio riesce sempre ad avere valori di `WaitDays` più piccoli di chi non attiva questo servizio"
   ]
  },
  {
   "cell_type": "code",
   "execution_count": 18,
   "metadata": {},
   "outputs": [
    {
     "data": {
      "text/plain": [
       "<seaborn.axisgrid.FacetGrid at 0x7f297d868a50>"
      ]
     },
     "execution_count": 18,
     "metadata": {},
     "output_type": "execute_result"
    },
    {
     "data": {
      "image/png": "[encoded data removed]",
      "text/plain": [
       "<Figure size 360x360 with 1 Axes>"
      ]
     },
     "metadata": {
      "needs_background": "light"
     },
     "output_type": "display_data"
    },
    {
     "data": {
      "image/png": "[encoded data removed]",
      "text/plain": [
       "<Figure size 413.359x360 with 1 Axes>"
      ]
     },
     "metadata": {
      "needs_background": "light"
     },
     "output_type": "display_data"
    }
   ],
   "source": [
    "sns.catplot(x=\"No-show\", y=\"Scholarship\", kind=\"bar\", data=train)\n",
    "\n",
    "plot_train = train.copy()\n",
    "plot_train.Scholarship = plot_train.Scholarship.map({1:\"Yes\", 0:\"No\"})\n",
    "sns.catplot(y=\"WaitDays\", x=\"Scholarship\", hue=\"No-show\", data=plot_train)"
   ]
  },
  {
   "cell_type": "markdown",
   "metadata": {},
   "source": [
    "# Modellazione\n",
    "Dopo aver analizzato un minimo i dati ed effettuate alcune pulizie di base, si proverà a definire un modello che predica nuove casistiche"
   ]
  },
  {
   "cell_type": "code",
   "execution_count": 19,
   "metadata": {},
   "outputs": [],
   "source": [
    "train_raw = train.copy()\n",
    "test_raw = test.copy()\n",
    "train_raw.shape, test_raw.shape\n",
    "\n",
    "y_train = train_raw[\"No-show\"].map({\"Yes\":1, \"No\":0})\n",
    "X_train = train_raw.drop(labels=[\"No-show\"], axis=1)\n",
    "\n",
    "y_test = test_raw[\"No-show\"].map({\"Yes\":1, \"No\":0})\n",
    "X_test = test_raw.drop(labels=[\"No-show\"], axis=1)"
   ]
  },
  {
   "cell_type": "markdown",
   "metadata": {},
   "source": [
    "### Label Encoding"
   ]
  },
  {
   "cell_type": "code",
   "execution_count": 20,
   "metadata": {},
   "outputs": [],
   "source": [
    "from sklearn.preprocessing import LabelEncoder\n",
    "encoder = LabelEncoder()"
   ]
  },
  {
   "cell_type": "markdown",
   "metadata": {},
   "source": [
    "#### da verificare\n",
    "Uso l'encoder sia su `Gender` che su `Neighbourhood` visto che sono categoriche. Su `Gender` il test set dovrebbe presentare le stesse due categorie.\n",
    "Invece se su `Neighbourhood` si presentano nuove categorie l'encoder non saprebbe come gestirle e darebbe errore. Tale comportamento è desiderato, in fin dei conti, perché il modello se trova un nuovo `Neighbourhood` non saprebbe come classificarlo. Se si forzasse la mano usando `fit_transform` anche sul test set il modello potrebbe dover lavorare con valori per cui non è stato tarato.\n",
    "Quindi si evita di fare `fit_transform` anche sul test set per evitare comportamenti anomali"
   ]
  },
  {
   "cell_type": "code",
   "execution_count": 21,
   "metadata": {},
   "outputs": [],
   "source": [
    "categorical_cols= ['Gender', 'Neighbourhood']#X_train.select_dtypes(exclude=[\"number\"]).columns\n",
    "for col in categorical_cols:\n",
    "    X_train[col] = encoder.fit_transform(X_train[col])\n",
    "    X_test[col] = encoder.transform(X_test[col]) #se ci sono nuovi neighbourhood non posso gestirli"
   ]
  },
  {
   "cell_type": "markdown",
   "metadata": {},
   "source": [
    "Non uso l'encoder sui campi che contengono date, questo perché è molto probabile che nel test set ci siano date non presenti nel train set. Quindi si prende una data come riferimento (es. la data più piccola del train set) e la si sottrae al dataset. In questa maniera si ottengono quanti giorni (di tipo intero) sono passati da quella data in maniera compatta. Alternativamente si poteva spezzare la data nelle sue componenti giorno-mese-anno. Però così si sarebbe aggiunte 4 nuove feature che avrebbero appesantito il modello"
   ]
  },
  {
   "cell_type": "code",
   "execution_count": 22,
   "metadata": {},
   "outputs": [],
   "source": [
    "date_cols = ['ScheduledDay', 'AppointmentDay']\n",
    "min_day = X_train.ScheduledDay.min()\n",
    "    \n",
    "for col in date_cols:\n",
    "    X_train[col] = (X_train[col] - min_day).dt.days\n",
    "    X_test[col] =  (X_test[col] - min_day).dt.days"
   ]
  },
  {
   "cell_type": "markdown",
   "metadata": {},
   "source": [
    "### Training\n",
    "provo un insieme di classificatori così da scegliere quale utilizzerà per fare ottimizzazione degli iper-parametri"
   ]
  },
  {
   "cell_type": "code",
   "execution_count": 23,
   "metadata": {},
   "outputs": [],
   "source": [
    "from sklearn.tree import DecisionTreeClassifier\n",
    "from sklearn.linear_model import LogisticRegression\n",
    "from sklearn.neighbors import KNeighborsClassifier\n",
    "\n",
    "answer_to_life_universe_everything=42\n",
    "\n",
    "models = [ \n",
    "            ('DecisionTree', DecisionTreeClassifier(random_state=answer_to_life_universe_everything)), \n",
    "            ('LogisticRegression', LogisticRegression(random_state=answer_to_life_universe_everything)),\n",
    "            ('Knn', KNeighborsClassifier())\n",
    "         ]"
   ]
  },
  {
   "cell_type": "code",
   "execution_count": 24,
   "metadata": {},
   "outputs": [
    {
     "name": "stdout",
     "output_type": "stream",
     "text": [
      "DecisionTree scored: 0.7199304231934892\n",
      "LogisticRegression scored: 0.7932594495948364\n",
      "Knn scored: 0.7703432889192339\n"
     ]
    }
   ],
   "source": [
    "from sklearn.model_selection import cross_val_score\n",
    "\n",
    "for name, model in models:\n",
    "    print(name, 'scored:', cross_val_score(estimator=model, X=X_train, y=y_train, cv=5, n_jobs=4).mean())\n"
   ]
  },
  {
   "cell_type": "markdown",
   "metadata": {},
   "source": [
    "## Calibrazione parametri\n",
    "A questo punto si utilizzerà come modello di base la `LogisticRegression`. Infatti è quella che ha dato il risultato migliore sulla cross-validation applicata al train set.\n",
    "Per ottimizzare ancora di più la predizione si cercherà di sistemare il valore di alcuni dei parametri di ingresso. Per fare questo si applicherà nuovamente la cross-validation e si sceglieranno i parametri migliori in base ai risultati ottenuti"
   ]
  },
  {
   "cell_type": "code",
   "execution_count": 25,
   "metadata": {},
   "outputs": [],
   "source": [
    "#definizione delle varie combinazioni di parametri da applicare\n",
    "regularizations = [0.01, 0.1, 1, 10, 100]\n",
    "intercepts = [True, False]\n",
    "iterations = [20, 50, 100, 300, 500]\n",
    "tolerances = [1e-5, 1e-4, 1e-2, 1]\n",
    "\n",
    "from itertools import product\n",
    "parameters = product(regularizations, intercepts, iterations, tolerances)"
   ]
  },
  {
   "cell_type": "code",
   "execution_count": 26,
   "metadata": {},
   "outputs": [],
   "source": [
    "#cross-validation su tutte le combinazioni dei parametri\n",
    "scores = []\n",
    "for parameter in parameters:\n",
    "    regularization, intercept, iteration, tolerance = parameter\n",
    "    model = LogisticRegression(\n",
    "        C=regularization, \n",
    "        fit_intercept=intercept, \n",
    "        max_iter=iteration,\n",
    "        tol=tolerance,\n",
    "        random_state=answer_to_life_universe_everything\n",
    "    )\n",
    "    score = cross_val_score(\n",
    "        estimator=model, \n",
    "        X=X_train, \n",
    "        y=y_train,\n",
    "        cv=5,\n",
    "        n_jobs=4\n",
    "    ).mean()\n",
    "    scores.append((regularization, intercept, iteration, tolerance, score))"
   ]
  },
  {
   "cell_type": "code",
   "execution_count": 27,
   "metadata": {},
   "outputs": [
    {
     "data": {
      "text/plain": [
       "[(0.01, True, 20, 1e-05, 0.7916760930141427),\n",
       " (0.01, True, 20, 0.0001, 0.7916760930141427),\n",
       " (0.01, True, 20, 0.01, 0.7916760930141427),\n",
       " (0.01, True, 20, 1, 0.7916760930141427),\n",
       " (0.01, True, 50, 1e-05, 0.7931887642294779)]"
      ]
     },
     "execution_count": 27,
     "metadata": {},
     "output_type": "execute_result"
    }
   ],
   "source": [
    "scores[:5]"
   ]
  },
  {
   "cell_type": "markdown",
   "metadata": {},
   "source": [
    "# Analisi parametri\n",
    "Sembra che ci siano poche differenze tra i vari test effettuati. Comunque verrà effettuta un analisi per vedere quale scelta sarà la migliore"
   ]
  },
  {
   "cell_type": "code",
   "execution_count": 28,
   "metadata": {},
   "outputs": [
    {
     "data": {
      "text/html": [
       "<div>\n",
       "<style scoped>\n",
       "    .dataframe tbody tr th:only-of-type {\n",
       "        vertical-align: middle;\n",
       "    }\n",
       "\n",
       "    .dataframe tbody tr th {\n",
       "        vertical-align: top;\n",
       "    }\n",
       "\n",
       "    .dataframe thead th {\n",
       "        text-align: right;\n",
       "    }\n",
       "</style>\n",
       "<table border=\"1\" class=\"dataframe\">\n",
       "  <thead>\n",
       "    <tr style=\"text-align: right;\">\n",
       "      <th></th>\n",
       "      <th>C</th>\n",
       "      <th>fit_intercept</th>\n",
       "      <th>max_iter</th>\n",
       "      <th>tol</th>\n",
       "      <th>score</th>\n",
       "    </tr>\n",
       "  </thead>\n",
       "  <tbody>\n",
       "    <tr>\n",
       "      <th>0</th>\n",
       "      <td>0.01</td>\n",
       "      <td>True</td>\n",
       "      <td>20</td>\n",
       "      <td>0.00001</td>\n",
       "      <td>0.791676</td>\n",
       "    </tr>\n",
       "    <tr>\n",
       "      <th>1</th>\n",
       "      <td>0.01</td>\n",
       "      <td>True</td>\n",
       "      <td>20</td>\n",
       "      <td>0.00010</td>\n",
       "      <td>0.791676</td>\n",
       "    </tr>\n",
       "    <tr>\n",
       "      <th>2</th>\n",
       "      <td>0.01</td>\n",
       "      <td>True</td>\n",
       "      <td>20</td>\n",
       "      <td>0.01000</td>\n",
       "      <td>0.791676</td>\n",
       "    </tr>\n",
       "    <tr>\n",
       "      <th>3</th>\n",
       "      <td>0.01</td>\n",
       "      <td>True</td>\n",
       "      <td>20</td>\n",
       "      <td>1.00000</td>\n",
       "      <td>0.791676</td>\n",
       "    </tr>\n",
       "    <tr>\n",
       "      <th>4</th>\n",
       "      <td>0.01</td>\n",
       "      <td>True</td>\n",
       "      <td>50</td>\n",
       "      <td>0.00001</td>\n",
       "      <td>0.793189</td>\n",
       "    </tr>\n",
       "    <tr>\n",
       "      <th>...</th>\n",
       "      <td>...</td>\n",
       "      <td>...</td>\n",
       "      <td>...</td>\n",
       "      <td>...</td>\n",
       "      <td>...</td>\n",
       "    </tr>\n",
       "    <tr>\n",
       "      <th>195</th>\n",
       "      <td>100.00</td>\n",
       "      <td>False</td>\n",
       "      <td>300</td>\n",
       "      <td>1.00000</td>\n",
       "      <td>0.793330</td>\n",
       "    </tr>\n",
       "    <tr>\n",
       "      <th>196</th>\n",
       "      <td>100.00</td>\n",
       "      <td>False</td>\n",
       "      <td>500</td>\n",
       "      <td>0.00001</td>\n",
       "      <td>0.793330</td>\n",
       "    </tr>\n",
       "    <tr>\n",
       "      <th>197</th>\n",
       "      <td>100.00</td>\n",
       "      <td>False</td>\n",
       "      <td>500</td>\n",
       "      <td>0.00010</td>\n",
       "      <td>0.793330</td>\n",
       "    </tr>\n",
       "    <tr>\n",
       "      <th>198</th>\n",
       "      <td>100.00</td>\n",
       "      <td>False</td>\n",
       "      <td>500</td>\n",
       "      <td>0.01000</td>\n",
       "      <td>0.793330</td>\n",
       "    </tr>\n",
       "    <tr>\n",
       "      <th>199</th>\n",
       "      <td>100.00</td>\n",
       "      <td>False</td>\n",
       "      <td>500</td>\n",
       "      <td>1.00000</td>\n",
       "      <td>0.793330</td>\n",
       "    </tr>\n",
       "  </tbody>\n",
       "</table>\n",
       "<p>200 rows × 5 columns</p>\n",
       "</div>"
      ],
      "text/plain": [
       "          C  fit_intercept  max_iter      tol     score\n",
       "0      0.01           True        20  0.00001  0.791676\n",
       "1      0.01           True        20  0.00010  0.791676\n",
       "2      0.01           True        20  0.01000  0.791676\n",
       "3      0.01           True        20  1.00000  0.791676\n",
       "4      0.01           True        50  0.00001  0.793189\n",
       "..      ...            ...       ...      ...       ...\n",
       "195  100.00          False       300  1.00000  0.793330\n",
       "196  100.00          False       500  0.00001  0.793330\n",
       "197  100.00          False       500  0.00010  0.793330\n",
       "198  100.00          False       500  0.01000  0.793330\n",
       "199  100.00          False       500  1.00000  0.793330\n",
       "\n",
       "[200 rows x 5 columns]"
      ]
     },
     "execution_count": 28,
     "metadata": {},
     "output_type": "execute_result"
    }
   ],
   "source": [
    "scores_data = pd.DataFrame(scores, columns=[\"C\", \"fit_intercept\", \"max_iter\", \"tol\", \"score\"])\n",
    "scores_data"
   ]
  },
  {
   "cell_type": "markdown",
   "metadata": {},
   "source": [
    "Sembra che le migliori scelte dei parametri siano praticamente identiche ai parametri di default"
   ]
  },
  {
   "cell_type": "code",
   "execution_count": 29,
   "metadata": {},
   "outputs": [
    {
     "data": {
      "text/html": [
       "<div>\n",
       "<style scoped>\n",
       "    .dataframe tbody tr th:only-of-type {\n",
       "        vertical-align: middle;\n",
       "    }\n",
       "\n",
       "    .dataframe tbody tr th {\n",
       "        vertical-align: top;\n",
       "    }\n",
       "\n",
       "    .dataframe thead th {\n",
       "        text-align: right;\n",
       "    }\n",
       "</style>\n",
       "<table border=\"1\" class=\"dataframe\">\n",
       "  <thead>\n",
       "    <tr style=\"text-align: right;\">\n",
       "      <th></th>\n",
       "      <th>C</th>\n",
       "      <th>fit_intercept</th>\n",
       "      <th>max_iter</th>\n",
       "      <th>tol</th>\n",
       "      <th>score</th>\n",
       "    </tr>\n",
       "  </thead>\n",
       "  <tbody>\n",
       "    <tr>\n",
       "      <th>48</th>\n",
       "      <td>0.1</td>\n",
       "      <td>True</td>\n",
       "      <td>100</td>\n",
       "      <td>0.00001</td>\n",
       "      <td>0.793387</td>\n",
       "    </tr>\n",
       "    <tr>\n",
       "      <th>49</th>\n",
       "      <td>0.1</td>\n",
       "      <td>True</td>\n",
       "      <td>100</td>\n",
       "      <td>0.00010</td>\n",
       "      <td>0.793387</td>\n",
       "    </tr>\n",
       "    <tr>\n",
       "      <th>50</th>\n",
       "      <td>0.1</td>\n",
       "      <td>True</td>\n",
       "      <td>100</td>\n",
       "      <td>0.01000</td>\n",
       "      <td>0.793387</td>\n",
       "    </tr>\n",
       "    <tr>\n",
       "      <th>51</th>\n",
       "      <td>0.1</td>\n",
       "      <td>True</td>\n",
       "      <td>100</td>\n",
       "      <td>1.00000</td>\n",
       "      <td>0.793387</td>\n",
       "    </tr>\n",
       "  </tbody>\n",
       "</table>\n",
       "</div>"
      ],
      "text/plain": [
       "      C  fit_intercept  max_iter      tol     score\n",
       "48  0.1           True       100  0.00001  0.793387\n",
       "49  0.1           True       100  0.00010  0.793387\n",
       "50  0.1           True       100  0.01000  0.793387\n",
       "51  0.1           True       100  1.00000  0.793387"
      ]
     },
     "execution_count": 29,
     "metadata": {},
     "output_type": "execute_result"
    }
   ],
   "source": [
    "scores_data[scores_data.score >= scores_data.score.max()]"
   ]
  },
  {
   "cell_type": "markdown",
   "metadata": {},
   "source": [
    "Il valore migliore per C sembra essere 0.1, infatti in corrispondenza di tale valore si ottiene il valore massimo nello score"
   ]
  },
  {
   "cell_type": "code",
   "execution_count": 30,
   "metadata": {},
   "outputs": [
    {
     "data": {
      "text/plain": [
       "<matplotlib.axes._subplots.AxesSubplot at 0x7f2976542c90>"
      ]
     },
     "execution_count": 30,
     "metadata": {},
     "output_type": "execute_result"
    },
    {
     "data": {
      "image/png": "[encoded data removed]",
      "text/plain": [
       "<Figure size 432x288 with 1 Axes>"
      ]
     },
     "metadata": {
      "needs_background": "light"
     },
     "output_type": "display_data"
    }
   ],
   "source": [
    "sns.lineplot(x=\"C\", y=\"score\", data=scores_data)"
   ]
  },
  {
   "cell_type": "markdown",
   "metadata": {},
   "source": [
    "In questo caso da 100 iterazione in poi qualsiasi valore è equivalente. Si sceglie il valore 100 così da rendere più efficiente l'esecuzione del processo di learning. Anche se alla fine il fitting nel caso peggiore richiede una decina di secondi. Quindi non è ancora necessario fare ottimizzazioni più \"estreme\", visto che si rischia di degradare le performance in produzione"
   ]
  },
  {
   "cell_type": "code",
   "execution_count": 31,
   "metadata": {},
   "outputs": [
    {
     "data": {
      "text/plain": [
       "<matplotlib.axes._subplots.AxesSubplot at 0x7f29764d1a90>"
      ]
     },
     "execution_count": 31,
     "metadata": {},
     "output_type": "execute_result"
    },
    {
     "data": {
      "image/png": "[encoded data removed]",
      "text/plain": [
       "<Figure size 432x288 with 1 Axes>"
      ]
     },
     "metadata": {
      "needs_background": "light"
     },
     "output_type": "display_data"
    }
   ],
   "source": [
    "sns.lineplot(x=\"max_iter\", y=\"score\", data=scores_data)"
   ]
  },
  {
   "cell_type": "markdown",
   "metadata": {},
   "source": [
    "i valori di tolerance applicati non cambiano in alcun modo lo score finale. Si potrebbe valutare di prendere un valore alto per avere un training veloce, però visto che su questo dataset il tempo di esecuzione del fit non è così alto alla fine non influisce in maniera significativa neanche sull'efficienza del processo di learning"
   ]
  },
  {
   "cell_type": "code",
   "execution_count": 32,
   "metadata": {},
   "outputs": [
    {
     "data": {
      "text/plain": [
       "<matplotlib.axes._subplots.AxesSubplot at 0x7f2976506590>"
      ]
     },
     "execution_count": 32,
     "metadata": {},
     "output_type": "execute_result"
    },
    {
     "data": {
      "image/png": "[encoded data removed]",
      "text/plain": [
       "<Figure size 432x288 with 1 Axes>"
      ]
     },
     "metadata": {
      "needs_background": "light"
     },
     "output_type": "display_data"
    }
   ],
   "source": [
    "sns.lineplot(x=\"tol\", y=\"score\", data=scores_data)"
   ]
  },
  {
   "cell_type": "markdown",
   "metadata": {},
   "source": [
    "Lasciare all'algoritmo di learning di scegliere il parametro dell'intercetta sembra garantire risultati più soddisfacenti"
   ]
  },
  {
   "cell_type": "code",
   "execution_count": 33,
   "metadata": {},
   "outputs": [
    {
     "data": {
      "image/png": "[encoded data removed]",
      "text/plain": [
       "<Figure size 360x360 with 1 Axes>"
      ]
     },
     "metadata": {
      "needs_background": "light"
     },
     "output_type": "display_data"
    }
   ],
   "source": [
    "sns.catplot(x=\"fit_intercept\", y=\"score\", kind=\"box\", data=scores_data);"
   ]
  },
  {
   "cell_type": "markdown",
   "metadata": {},
   "source": [
    "# Test finale\n",
    "Si conclude la realizzazione del modello. A questo punto non si applica la cross-validation sul training set in modo tale da poter utilizzare l'intero training set per l'addestramento del modello. Infine si calcola lo score sul test set"
   ]
  },
  {
   "cell_type": "code",
   "execution_count": 34,
   "metadata": {},
   "outputs": [
    {
     "data": {
      "text/plain": [
       "0.7943454905286966"
      ]
     },
     "execution_count": 34,
     "metadata": {},
     "output_type": "execute_result"
    }
   ],
   "source": [
    "final_model = LogisticRegression(\n",
    "    C=0.1,\n",
    "    fit_intercept=True,\n",
    "    max_iter = 100,\n",
    "    tol = 1e-4,\n",
    "    random_state=answer_to_life_universe_everything\n",
    ").fit(X_train, y_train)\n",
    "final_model.score(X_test, y_test)"
   ]
  },
  {
   "cell_type": "markdown",
   "metadata": {},
   "source": [
    "# Conclusioni\n",
    "Dopo aver definito il modello finale è interessante vedere come le analisi a monte rispecchino, almeno in parte ciò che il modello ha inferito dal dataset.\n",
    "Nel processo decisionale si può notare che le feature più importanti sono:\n",
    "- Scholarship, ovvero se hanno l'assicurazione familiare\n",
    "- WaitDays, ovvero se ha aspettato molto tra prenotazione e visita\n",
    "- Età, più è alta e più è probabile che NON disdica l'appuntamento (o che non si presenti)\n",
    "- SMS_received, ovvero se ha ricevuto almeno un messaggio\n",
    "\n",
    "Quindi il profilo tipico di chi salterebbe la visita è una persona con che ha l'assicurazione, che è stato notificato una o più volte via sms, che sia giovane e abbia dovuto aspettare molto per la visita effettiva.\n",
    "\n",
    "Non sembrano essere decisive invece le feature riguardanti le malattie che il paziente può avere. Inoltre come si è visto all'inizio il genere non conta molto rispetto alla decisione finale"
   ]
  },
  {
   "cell_type": "code",
   "execution_count": 35,
   "metadata": {},
   "outputs": [
    {
     "data": {
      "text/html": [
       "<div>\n",
       "<style scoped>\n",
       "    .dataframe tbody tr th:only-of-type {\n",
       "        vertical-align: middle;\n",
       "    }\n",
       "\n",
       "    .dataframe tbody tr th {\n",
       "        vertical-align: top;\n",
       "    }\n",
       "\n",
       "    .dataframe thead th {\n",
       "        text-align: right;\n",
       "    }\n",
       "</style>\n",
       "<table border=\"1\" class=\"dataframe\">\n",
       "  <thead>\n",
       "    <tr style=\"text-align: right;\">\n",
       "      <th></th>\n",
       "      <th>Gender</th>\n",
       "      <th>ScheduledDay</th>\n",
       "      <th>AppointmentDay</th>\n",
       "      <th>Age</th>\n",
       "      <th>Neighbourhood</th>\n",
       "      <th>Scholarship</th>\n",
       "      <th>Hipertension</th>\n",
       "      <th>Diabetes</th>\n",
       "      <th>Alcoholism</th>\n",
       "      <th>Handcap</th>\n",
       "      <th>SMS_received</th>\n",
       "      <th>WaitDays</th>\n",
       "    </tr>\n",
       "  </thead>\n",
       "  <tbody>\n",
       "    <tr>\n",
       "      <th>0</th>\n",
       "      <td>-0.009217</td>\n",
       "      <td>-0.027187</td>\n",
       "      <td>-0.078624</td>\n",
       "      <td>-0.169825</td>\n",
       "      <td>-0.028461</td>\n",
       "      <td>0.076928</td>\n",
       "      <td>-0.004559</td>\n",
       "      <td>0.019118</td>\n",
       "      <td>0.021173</td>\n",
       "      <td>0.002189</td>\n",
       "      <td>0.177823</td>\n",
       "      <td>0.336252</td>\n",
       "    </tr>\n",
       "  </tbody>\n",
       "</table>\n",
       "</div>"
      ],
      "text/plain": [
       "     Gender  ScheduledDay  AppointmentDay       Age  Neighbourhood  \\\n",
       "0 -0.009217     -0.027187       -0.078624 -0.169825      -0.028461   \n",
       "\n",
       "   Scholarship  Hipertension  Diabetes  Alcoholism   Handcap  SMS_received  \\\n",
       "0     0.076928     -0.004559  0.019118    0.021173  0.002189      0.177823   \n",
       "\n",
       "   WaitDays  \n",
       "0  0.336252  "
      ]
     },
     "execution_count": 35,
     "metadata": {},
     "output_type": "execute_result"
    }
   ],
   "source": [
    "import numpy as np\n",
    "coef = np.std(X_test, 0) * final_model.coef_[0] # si prendono i coefficienti e per ottenere una stima migliore\n",
    "                                                # li si moltiplicano per la deviazione standard\n",
    "feature_importance = pd.Series(coef).values.reshape(1,12)\n",
    "feature = pd.DataFrame(feature_importance, columns=X_train.columns)\n",
    "feature"
   ]
  },
  {
   "cell_type": "code",
   "execution_count": null,
   "metadata": {},
   "outputs": [],
   "source": []
  },
  {
   "cell_type": "code",
   "execution_count": null,
   "metadata": {},
   "outputs": [],
   "source": []
  },
  {
   "cell_type": "code",
   "execution_count": null,
   "metadata": {},
   "outputs": [],
   "source": []
  }
 ],
 "metadata": {
  "kernelspec": {
   "display_name": "Python 3",
   "language": "python",
   "name": "python3"
  },
  "language_info": {
   "codemirror_mode": {
    "name": "ipython",
    "version": 3
   },
   "file_extension": ".py",
   "mimetype": "text/x-python",
   "name": "python",
   "nbconvert_exporter": "python",
   "pygments_lexer": "ipython3",
   "version": "3.7.6"
  }
 },
 "nbformat": 4,
 "nbformat_minor": 4
}
