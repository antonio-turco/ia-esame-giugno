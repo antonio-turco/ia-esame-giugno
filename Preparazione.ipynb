{
 "cells": [
  {
   "cell_type": "code",
   "execution_count": 1,
   "metadata": {},
   "outputs": [
    {
     "name": "stdout",
     "output_type": "stream",
     "text": [
      "Requirement already satisfied: numpy==1.18.1 in /home/antonio/anaconda3/lib/python3.7/site-packages (from -r requirements.txt (line 1)) (1.18.1)\n",
      "Requirement already satisfied: pandas==1.0.1 in /home/antonio/anaconda3/lib/python3.7/site-packages (from -r requirements.txt (line 2)) (1.0.1)\n",
      "Requirement already satisfied: seaborn==0.10.0 in /home/antonio/anaconda3/lib/python3.7/site-packages (from -r requirements.txt (line 3)) (0.10.0)\n",
      "Requirement already satisfied: scikit_learn==0.23.1 in /home/antonio/anaconda3/lib/python3.7/site-packages (from -r requirements.txt (line 4)) (0.23.1)\n",
      "Requirement already satisfied: python-dateutil>=2.6.1 in /home/antonio/anaconda3/lib/python3.7/site-packages (from pandas==1.0.1->-r requirements.txt (line 2)) (2.8.1)\n",
      "Requirement already satisfied: pytz>=2017.2 in /home/antonio/anaconda3/lib/python3.7/site-packages (from pandas==1.0.1->-r requirements.txt (line 2)) (2019.3)\n",
      "Requirement already satisfied: scipy>=1.0.1 in /home/antonio/anaconda3/lib/python3.7/site-packages (from seaborn==0.10.0->-r requirements.txt (line 3)) (1.4.1)\n",
      "Requirement already satisfied: matplotlib>=2.1.2 in /home/antonio/anaconda3/lib/python3.7/site-packages (from seaborn==0.10.0->-r requirements.txt (line 3)) (3.1.3)\n",
      "Requirement already satisfied: joblib>=0.11 in /home/antonio/anaconda3/lib/python3.7/site-packages (from scikit_learn==0.23.1->-r requirements.txt (line 4)) (0.14.1)\n",
      "Requirement already satisfied: threadpoolctl>=2.0.0 in /home/antonio/anaconda3/lib/python3.7/site-packages (from scikit_learn==0.23.1->-r requirements.txt (line 4)) (2.1.0)\n",
      "Requirement already satisfied: six>=1.5 in /home/antonio/anaconda3/lib/python3.7/site-packages (from python-dateutil>=2.6.1->pandas==1.0.1->-r requirements.txt (line 2)) (1.14.0)\n",
      "Requirement already satisfied: pyparsing!=2.0.4,!=2.1.2,!=2.1.6,>=2.0.1 in /home/antonio/anaconda3/lib/python3.7/site-packages (from matplotlib>=2.1.2->seaborn==0.10.0->-r requirements.txt (line 3)) (2.4.6)\n",
      "Requirement already satisfied: kiwisolver>=1.0.1 in /home/antonio/anaconda3/lib/python3.7/site-packages (from matplotlib>=2.1.2->seaborn==0.10.0->-r requirements.txt (line 3)) (1.1.0)\n",
      "Requirement already satisfied: cycler>=0.10 in /home/antonio/anaconda3/lib/python3.7/site-packages (from matplotlib>=2.1.2->seaborn==0.10.0->-r requirements.txt (line 3)) (0.10.0)\n",
      "Requirement already satisfied: setuptools in /home/antonio/anaconda3/lib/python3.7/site-packages (from kiwisolver>=1.0.1->matplotlib>=2.1.2->seaborn==0.10.0->-r requirements.txt (line 3)) (45.2.0.post20200210)\n"
     ]
    }
   ],
   "source": [
    "!pip install -r requirements.txt\n",
    "import pandas as pd"
   ]
  },
  {
   "cell_type": "code",
   "execution_count": 2,
   "metadata": {},
   "outputs": [],
   "source": [
    "dataset = pd.read_csv(\"appointment_data.csv\")"
   ]
  },
  {
   "cell_type": "code",
   "execution_count": 3,
   "metadata": {},
   "outputs": [],
   "source": [
    "from sklearn.model_selection import train_test_split\n",
    "\n",
    "train, test = train_test_split(dataset, test_size=0.2, random_state = 10)"
   ]
  },
  {
   "cell_type": "code",
   "execution_count": 4,
   "metadata": {},
   "outputs": [],
   "source": [
    "train.to_csv(\"train.csv\", index=False)"
   ]
  },
  {
   "cell_type": "code",
   "execution_count": 5,
   "metadata": {},
   "outputs": [],
   "source": [
    "test.to_csv(\"test.csv\", index=False)"
   ]
  }
 ],
 "metadata": {
  "kernelspec": {
   "display_name": "Python 3",
   "language": "python",
   "name": "python3"
  },
  "language_info": {
   "codemirror_mode": {
    "name": "ipython",
    "version": 3
   },
   "file_extension": ".py",
   "mimetype": "text/x-python",
   "name": "python",
   "nbconvert_exporter": "python",
   "pygments_lexer": "ipython3",
   "version": "3.7.6"
  }
 },
 "nbformat": 4,
 "nbformat_minor": 4
}
